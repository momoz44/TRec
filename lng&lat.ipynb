{
 "cells": [
  {
   "cell_type": "code",
   "execution_count": 1,
   "metadata": {
    "collapsed": false
   },
   "outputs": [
    {
     "data": {
      "text/plain": [
       "'ascii'"
      ]
     },
     "execution_count": 1,
     "metadata": {},
     "output_type": "execute_result"
    }
   ],
   "source": [
    "# -*- coding: utf-8 -*-\n",
    "import json\n",
    "import xmltodict\n",
    "import sys\n",
    "sys.getdefaultencoding()"
   ]
  },
  {
   "cell_type": "code",
   "execution_count": 2,
   "metadata": {
    "collapsed": true
   },
   "outputs": [],
   "source": [
    "import urllib2\n",
    "import urllib"
   ]
  },
  {
   "cell_type": "code",
   "execution_count": null,
   "metadata": {
    "collapsed": true
   },
   "outputs": [],
   "source": [
    "register_openers()\n",
    "body_value  = json.JSONEncoder().encode(body_value)\n",
    "request = urllib2.Request(url, body_value)\n",
    "request .add_header(keys, headers[keys])\n",
    "result = urllib2.urlopen(request ).read()\n",
    "\n",
    "import urllib\n",
    "\n",
    "url = \"http://www.example.com\"\n",
    "body_value = {\"package\": \"com.tencent.lian\",\"version_code\": \"66\" }\n",
    "body_value  = urllib.urlencode(body_value)\n",
    "request = urllib2.Request(url, body_value)\n",
    "request.add_header(keys, headers[keys])\n",
    "result = urllib2.urlopen(request ).read()"
   ]
  },
  {
   "cell_type": "code",
   "execution_count": 3,
   "metadata": {
    "collapsed": true
   },
   "outputs": [],
   "source": [
    "startp = '北京大学'\n",
    "endp = '清华大学'\n",
    "startr = '北京'\n",
    "endr = '北京'\n",
    "ak = 'I5gvYZ9oz1bX0QYM1Tkt5Gou3lzkVykj'"
   ]
  },
  {
   "cell_type": "code",
   "execution_count": 31,
   "metadata": {
    "collapsed": true
   },
   "outputs": [],
   "source": [
    "startp = '金牛区金沙路15号2楼'\n",
    "endp = '怡景路88号附1号'\n",
    "startr = '成都'\n",
    "endr = '重庆'\n",
    "ak = 'I5gvYZ9oz1bX0QYM1Tkt5Gou3lzkVykj'"
   ]
  },
  {
   "cell_type": "code",
   "execution_count": 8,
   "metadata": {
    "collapsed": true
   },
   "outputs": [],
   "source": [
    "url = 'http://api.map.baidu.com/direction/v1'\n",
    "body_value = {'mode':'driving',\n",
    "             'origin':startp,\n",
    "             'destination':endp,\n",
    "             'origin_region':startr,\n",
    "             'destination_region':endr,\n",
    "             'ak':ak}"
   ]
  },
  {
   "cell_type": "code",
   "execution_count": 16,
   "metadata": {
    "collapsed": true
   },
   "outputs": [],
   "source": [
    "url = 'http://api.map.baidu.com/direction/v1'\n",
    "body_value = {'mode':'driving',\n",
    "             'origin':'北京大学',\n",
    "             'destination':'清华大学',\n",
    "             'origin_region':'北京',\n",
    "             'destination_region':'北京',\n",
    "             'ak':'I5gvYZ9oz1bX0QYM1Tkt5Gou3lzkVykj'}"
   ]
  },
  {
   "cell_type": "code",
   "execution_count": 18,
   "metadata": {
    "collapsed": true
   },
   "outputs": [],
   "source": [
    "body_value  = urllib.urlencode(body_value)"
   ]
  },
  {
   "cell_type": "code",
   "execution_count": 9,
   "metadata": {
    "collapsed": false
   },
   "outputs": [],
   "source": [
    "body_value  = urllib.urlencode(body_value)\n",
    "request = urllib2.Request(url, body_value)\n",
    "result = urllib2.urlopen(request).read()"
   ]
  },
  {
   "cell_type": "code",
   "execution_count": 14,
   "metadata": {
    "collapsed": false
   },
   "outputs": [
    {
     "data": {
      "text/plain": [
       "'origin=%E5%8C%97%E4%BA%AC%E5%A4%A7%E5%AD%A6&destination_region=%E5%8C%97%E4%BA%AC&origin_region=%E5%8C%97%E4%BA%AC&ak=I5gvYZ9oz1bX0QYM1Tkt5Gou3lzkVykj&destination=%E6%B8%85%E5%8D%8E%E5%A4%A7%E5%AD%A6&mode=driving'"
      ]
     },
     "execution_count": 14,
     "metadata": {},
     "output_type": "execute_result"
    }
   ],
   "source": [
    "body_value"
   ]
  },
  {
   "cell_type": "code",
   "execution_count": 19,
   "metadata": {
    "collapsed": false
   },
   "outputs": [
    {
     "data": {
      "text/plain": [
       "u'origin=%E5%8C%97%E4%BA%AC%E5%A4%A7%E5%AD%A6&destination_region=%E5%8C%97%E4%BA%AC&origin_region=%E5%8C%97%E4%BA%AC&ak=I5gvYZ9oz1bX0QYM1Tkt5Gou3lzkVykj&destination=%E6%B8%85%E5%8D%8E%E5%A4%A7%E5%AD%A6&mode=driving'"
      ]
     },
     "execution_count": 19,
     "metadata": {},
     "output_type": "execute_result"
    }
   ],
   "source": [
    "body_value.decode('unicode-escape')"
   ]
  },
  {
   "cell_type": "code",
   "execution_count": 11,
   "metadata": {
    "collapsed": false
   },
   "outputs": [
    {
     "data": {
      "text/plain": [
       "'<DirectionDrivingResponse>\\n  <status>2</status>\\n  <message>Parameter Invalid</message>\\n  <type></type>\\n      <info>\\n    <copyright>\\n        <text>@2017 Baidu - Data</text>\\n        <imageUrl>http://api.map.baidu.com/images/copyright_logo.png</imageUrl>\\n    </copyright>\\n  </info>\\n        </DirectionDrivingResponse>\\n'"
      ]
     },
     "execution_count": 11,
     "metadata": {},
     "output_type": "execute_result"
    }
   ],
   "source": [
    "result"
   ]
  },
  {
   "cell_type": "code",
   "execution_count": 11,
   "metadata": {
    "collapsed": true
   },
   "outputs": [],
   "source": [
    "result = urllib2.urlopen('http://api.map.baidu.com/direction/v1?mode=driving&origin=清华大学&destination=北京大学&origin_region=北京&destination_region=北京&output=json&ak=I5gvYZ9oz1bX0QYM1Tkt5Gou3lzkVykj').read()"
   ]
  },
  {
   "cell_type": "code",
   "execution_count": 20,
   "metadata": {
    "collapsed": true
   },
   "outputs": [],
   "source": [
    "result = urllib2.urlopen('http://api.map.baidu.com/direction/v1?mode=driving&origin='+startp+'&destination='+endp+'&origin_region='+startr+'&destination_region='+endr+'&output=json&ak=I5gvYZ9oz1bX0QYM1Tkt5Gou3lzkVykj').read()"
   ]
  },
  {
   "cell_type": "code",
   "execution_count": 32,
   "metadata": {
    "collapsed": true
   },
   "outputs": [],
   "source": [
    "result2 = urllib2.urlopen('http://api.map.baidu.com/direction/v1?mode=driving&origin='+startp+'&destination='+endp+'&origin_region='+startr+'&destination_region='+endr+'&output=json&ak=I5gvYZ9oz1bX0QYM1Tkt5Gou3lzkVykj').read()"
   ]
  },
  {
   "cell_type": "code",
   "execution_count": 21,
   "metadata": {
    "collapsed": false
   },
   "outputs": [
    {
     "data": {
      "text/plain": [
       "'{\"status\":0,\"message\":\"ok\",\"type\":2,\"info\":{\"copyright\":{\"text\":\"@2017 Baidu - Data\",\"imageUrl\":\"http:\\\\/\\\\/api.map.baidu.com\\\\/images\\\\/copyright_logo.png\"}},\"result\":{\"routes\":[{\"distance\":3308,\"duration\":486,\"steps\":[{\"area\":0,\"direction\":6,\"distance\":698,\"duration\":102,\"instructions\":\"\\\\u4ece<b>\\\\u8d77\\\\u70b9<\\\\/b>\\\\u5411\\\\u6b63\\\\u5357\\\\u65b9\\\\u5411\\\\u51fa\\\\u53d1,\\\\u6cbf<b>\\\\u4e2d\\\\u5173\\\\u6751\\\\u5317\\\\u5927\\\\u8857<\\\\/b>\\\\u884c\\\\u9a76700\\\\u7c73,\\\\u671d<b>\\\\u5317\\\\u56db\\\\u73af\\\\/\\\\u4e2d\\\\u5173\\\\u6751\\\\u4e8c\\\\u6865\\\\u65b9\\\\u5411<\\\\/b>,<b>\\\\u8c03\\\\u5934<\\\\/b>\",\"path\":\"116.32227422857,39.997933574857;116.3223648676,39.996822090865;116.32237492862,39.996691989322;116.32238498964,39.996551869058;116.32239505066,39.996501776684;116.32240511168,39.996411679411;116.32241517271,39.996281577079;116.32244535577,39.996091156009;116.32251578292,39.995129991271;116.32260624229,39.99394846752;116.32265645757,39.993307672279;116.32266651859,39.993137557191;116.32267657961,39.993037436455;116.32267657961,39.992997498673;116.32268664063,39.99289737773;116.32269670165,39.992807275663;116.32269670165,39.992747368779;116.32277718983,39.992576008539;116.32282749493,39.992405200643;116.32285758817,39.991774686377;116.32286764919,39.99174455974;116.32295819839,39.991743108686\",\"pois\":[],\"turn\":5,\"type\":3,\"stepOriginLocation\":{\"lng\":116.32227422857,\"lat\":39.997933574857},\"stepDestinationLocation\":{\"lng\":116.32295819839,\"lat\":39.991743108686},\"stepOriginInstruction\":\"\\\\u4ece\\\\u8d77\\\\u70b9\\\\u5411\\\\u6b63\\\\u5357\\\\u65b9\\\\u5411\\\\u51fa\\\\u53d1 - 700\\\\u7c73\",\"stepDestinationInstruction\":\"\\\\u8c03\\\\u5934 - 700\\\\u7c73\",\"traffic_condition\":1,\"traffic_condition_detail\":[{\"status\":1,\"geo_cnt\":21}]},{\"area\":0,\"direction\":0,\"distance\":702,\"duration\":85,\"instructions\":\"\\\\u7ee7\\\\u7eed\\\\u6cbf<b>\\\\u4e2d\\\\u5173\\\\u6751\\\\u5317\\\\u5927\\\\u8857<\\\\/b>\\\\u884c\\\\u9a76700\\\\u7c73,<b>\\\\u53f3\\\\u8f6c<\\\\/b>\\\\u8fdb\\\\u5165<b>\\\\u6210\\\\u5e9c\\\\u8def<\\\\/b>\",\"path\":\"116.32295819839,39.991743108686;116.32294786787,39.991781803447;116.32293789668,39.991962010187;116.32289783226,39.992452739453;116.32288786106,39.992672951502;116.32286782885,39.992873332098;116.32285785766,39.992993491074;116.32285785766,39.993043516945;116.32284788647,39.993133687794;116.32283791528,39.993293853035;116.32281788307,39.993594213665;116.32278787966,39.993994761529;116.32276784745,39.994305137855;116.32273775421,39.994605632192;116.32268753894,39.995116517871;116.32263732366,39.995697391729;116.32260723042,39.99607789008;116.32259725923,39.99616805689;116.32258728804,39.996288210024;116.32257731685,39.996408362945;116.32256734566,39.996528515652;116.32255737447,39.996558709255;116.32255737447,39.996728677568;116.32254740328,39.996818843512;116.3224669151,39.9980502012\",\"pois\":[],\"turn\":3,\"type\":3,\"stepOriginLocation\":{\"lng\":116.32295819839,\"lat\":39.991743108686},\"stepDestinationLocation\":{\"lng\":116.3224669151,\"lat\":39.9980502012},\"stepOriginInstruction\":\"\",\"stepDestinationInstruction\":\"\\\\u53f3\\\\u8f6c\\\\u8fdb\\\\u5165\\\\u6210\\\\u5e9c\\\\u8def - 1.5\\\\u516c\\\\u91cc\",\"traffic_condition\":1,\"traffic_condition_detail\":[{\"status\":1,\"geo_cnt\":24}]},{\"area\":0,\"direction\":3,\"distance\":1474,\"duration\":184,\"instructions\":\"\\\\u6cbf<b>\\\\u6210\\\\u5e9c\\\\u8def<\\\\/b>\\\\u884c\\\\u9a761.5\\\\u516c\\\\u91cc,\\\\u671d<b>\\\\u4e2d\\\\u5173\\\\u6751\\\\u4e1c\\\\u8def\\\\/\\\\u53cc\\\\u6e05\\\\u8def\\\\u65b9\\\\u5411<\\\\/b>,<b>\\\\u5de6\\\\u8f6c<\\\\/b>\\\\u8fdb\\\\u5165<b>\\\\u4e2d\\\\u5173\\\\u6751\\\\u4e1c\\\\u8def<\\\\/b>\",\"path\":\"116.3224669151,39.9980502012;116.32280737289,39.998054346682;116.32336063925,39.998044950255;116.32394399885,39.998045088438;116.32508044515,39.998076179552;116.32518105537,39.998074590451;116.32734282758,39.998140227203;116.32751368529,39.99814761997;116.3276242667,39.99814603087;116.32795601092,39.998161023676;116.32822738902,39.998166965524;116.32839824672,39.99817442738;116.32849876711,39.998172976463;116.32864950278,39.998180783774;116.32923241322,39.998192322011;116.3309204191,39.998228940353;116.33115146328,39.998235849472;116.33124183282,39.998234744013;116.33145275495,39.998241998588;116.3317942907,39.998247594973;116.33218595191,39.998262656847;116.33395309851,39.998291744219;116.3349768973,39.998310675186;116.3351274533,39.998309155181;116.33557903148,39.998314613379;116.33612079953,39.998329329783;116.33640169967,39.998336653438;116.33646188613,39.998336169801;116.33742477981,39.998357657124;116.33939997397,39.998402635391;116.33958035371,39.998421428145;116.33957038252,39.998501504563;116.33957038252,39.998591529966\",\"pois\":[],\"turn\":7,\"type\":3,\"stepOriginLocation\":{\"lng\":116.3224669151,\"lat\":39.9980502012},\"stepDestinationLocation\":{\"lng\":116.33957038252,\"lat\":39.998591529966},\"stepOriginInstruction\":\"\",\"stepDestinationInstruction\":\"\\\\u5de6\\\\u8f6c\\\\u8fdb\\\\u5165\\\\u4e2d\\\\u5173\\\\u6751\\\\u4e1c\\\\u8def - 420\\\\u7c73\",\"traffic_condition\":1,\"traffic_condition_detail\":[{\"status\":1,\"geo_cnt\":32}]},{\"area\":0,\"direction\":0,\"distance\":423,\"duration\":104,\"instructions\":\"\\\\u6cbf<b>\\\\u4e2d\\\\u5173\\\\u6751\\\\u4e1c\\\\u8def<\\\\/b>\\\\u884c\\\\u9a76420\\\\u7c73,<b>\\\\u8c03\\\\u5934<\\\\/b>\",\"path\":\"116.33957038252,39.998591529966;116.33956050116,39.998761147726;116.3395203469,39.999601353918;116.33950022486,40.000441411512;116.33949025367,40.000711479628;116.33949025367,40.000991426307;116.33953022826,40.001441121054;116.33953022826,40.00153114255;116.33950013503,40.001921280378;116.33949016384,40.002061320449;116.33939997397,40.002301881948;116.33939997397,40.0023919023\",\"pois\":[],\"turn\":5,\"type\":21,\"stepOriginLocation\":{\"lng\":116.33957038252,\"lat\":39.998591529966},\"stepDestinationLocation\":{\"lng\":116.33939997397,\"lat\":40.0023919023},\"stepOriginInstruction\":\"\",\"stepDestinationInstruction\":\"\\\\u8c03\\\\u5934 - 10\\\\u7c73\",\"traffic_condition\":1,\"traffic_condition_detail\":[{\"status\":1,\"geo_cnt\":5},{\"status\":0,\"geo_cnt\":6}]},{\"area\":0,\"direction\":6,\"distance\":11,\"duration\":10,\"instructions\":\"\\\\u884c\\\\u9a7610\\\\u7c73,\\\\u5230\\\\u8fbe<b>\\\\u7ec8\\\\u70b9<\\\\/b>\",\"path\":\"116.33939997397,40.0023919023;116.33939925532,40.002301881948;116.33939925532,40.002301881948\",\"pois\":[],\"turn\":0,\"type\":3,\"stepOriginLocation\":{\"lng\":116.33939997397,\"lat\":40.0023919023},\"stepDestinationLocation\":{\"lng\":116.33939925532,\"lat\":40.002301881948},\"stepOriginInstruction\":null,\"stepDestinationInstruction\":\"\\\\u5230\\\\u8fbe\\\\u7ec8\\\\u70b9\",\"traffic_condition\":0,\"traffic_condition_detail\":[{\"status\":0,\"geo_cnt\":2}]}],\"toll\":0,\"originLocation\":{\"lng\":116.32227422857,\"lat\":39.997933574857},\"destinationLocation\":{\"lng\":116.33939925532,\"lat\":40.002301881948}}],\"origin\":{\"area_id\":131,\"bid\":\"12111230816633752856\",\"cname\":\"\\\\u5317\\\\u4eac\\\\u5e02\",\"uid\":\"ddfd7c2d8db36cf39ee3219e\",\"wd\":\"\\\\u5317\\\\u4eac\\\\u5927\\\\u5b66\",\"originPt\":{\"lng\":116.32228114552,\"lat\":39.997927632989}},\"destination\":{\"area_id\":131,\"bid\":\"16205744175788203519\",\"cname\":\"\\\\u5317\\\\u4eac\\\\u5e02\",\"uid\":\"d8cf2f3ebd4968cfd618b7a7\",\"wd\":\"\\\\u6e05\\\\u534e\\\\u5927\\\\u5b66\",\"destinationPt\":{\"lng\":116.33939386549,\"lat\":40.002300983816}},\"taxi\":{\"detail\":[{\"desc\":\"\\\\u767d\\\\u5929\\\\uff0805:00-23:00\\\\uff09\",\"km_price\":\"2.3\",\"start_price\":\"13.0\",\"total_price\":\"14\"},{\"desc\":\"\\\\u591c\\\\u95f4\\\\uff0823:00-05:00\\\\uff09\",\"km_price\":\"2.8\",\"start_price\":\"13.0\",\"total_price\":\"14\"}],\"distance\":3308,\"duration\":487,\"remark\":\"\\\\u5168\\\\u7a0b3.3\\\\u516c\\\\u91cc;3.0\\\\u516c\\\\u91cc\\\\u8d77\\\\u6b65\\\\uff1b\\\\u71c3\\\\u6cb9\\\\u9644\\\\u52a0\\\\u8d390.0\\\\u5143\\\\uff1b\\\\u91cc\\\\u7a0b\\\\u8d85\\\\u8fc715.0\\\\u516c\\\\u91cc\\\\uff0c\\\\u8d85\\\\u8fc7\\\\u90e8\\\\u5206\\\\u6bcf\\\\u516c\\\\u91cc\\\\u65363.5\\\\u5143\\\\u3002\"},\"traffic_condition\":1}}'"
      ]
     },
     "execution_count": 21,
     "metadata": {},
     "output_type": "execute_result"
    }
   ],
   "source": [
    "result"
   ]
  },
  {
   "cell_type": "code",
   "execution_count": null,
   "metadata": {
    "collapsed": true
   },
   "outputs": [],
   "source": []
  },
  {
   "cell_type": "code",
   "execution_count": 23,
   "metadata": {
    "collapsed": false
   },
   "outputs": [],
   "source": [
    "final = json.loads(result)"
   ]
  },
  {
   "cell_type": "code",
   "execution_count": 34,
   "metadata": {
    "collapsed": false
   },
   "outputs": [
    {
     "data": {
      "text/plain": [
       "2"
      ]
     },
     "execution_count": 34,
     "metadata": {},
     "output_type": "execute_result"
    }
   ],
   "source": [
    "final['type']"
   ]
  },
  {
   "cell_type": "code",
   "execution_count": 29,
   "metadata": {
    "collapsed": false
   },
   "outputs": [
    {
     "data": {
      "text/plain": [
       "{u'lat': 39.997927632989, u'lng': 116.32228114552}"
      ]
     },
     "execution_count": 29,
     "metadata": {},
     "output_type": "execute_result"
    }
   ],
   "source": [
    "#出发点的经纬度\n",
    "final['result']['origin']['originPt']"
   ]
  },
  {
   "cell_type": "code",
   "execution_count": 30,
   "metadata": {
    "collapsed": false
   },
   "outputs": [
    {
     "data": {
      "text/plain": [
       "{u'lat': 40.002300983816, u'lng': 116.33939386549}"
      ]
     },
     "execution_count": 30,
     "metadata": {},
     "output_type": "execute_result"
    }
   ],
   "source": [
    "#结束点的经纬度\n",
    "final['result']['destination']['destinationPt']"
   ]
  },
  {
   "cell_type": "code",
   "execution_count": 51,
   "metadata": {
    "collapsed": true
   },
   "outputs": [],
   "source": [
    "lat11 = final['result']['origin']['originPt']['lat']\n",
    "lng11 = final['result']['origin']['originPt']['lng']\n",
    "lat22 = final['result']['destination']['destinationPt']['lat']\n",
    "lng22 = final['result']['destination']['destinationPt']['lng']"
   ]
  },
  {
   "cell_type": "code",
   "execution_count": 33,
   "metadata": {
    "collapsed": false
   },
   "outputs": [
    {
     "data": {
      "text/plain": [
       "'{\"status\":0,\"message\":\"ok\",\"type\":1,\"info\":{\"copyright\":{\"text\":\"@2017 Baidu - Data\",\"imageUrl\":\"http:\\\\/\\\\/api.map.baidu.com\\\\/images\\\\/copyright_logo.png\"}},\"result\":{\"originInfo\":{\"area_id\":75,\"wd\":\"\\\\u91d1\\\\u725b\\\\u533a\\\\u91d1\\\\u6c99\\\\u8def15\\\\u53f72\\\\u697c\",\"uid\":\"\"},\"destinationInfo\":{\"area_id\":132,\"wd\":\"\\\\u6021\\\\u666f\\\\u8def88\\\\u53f7\\\\u96441\\\\u53f7\",\"uid\":\"\"},\"origin\":{\"cityName\":\"\\\\u91d1\\\\u725b\\\\u533a\",\"listType\":0,\"content\":[{\"name\":\"\\\\u7f8e\\\\u5e74\\\\u5927\\\\u5065\\\\u5eb7(\\\\u91d1\\\\u6c99\\\\u8def)\",\"address\":\"\\\\u91d1\\\\u725b\\\\u533a\\\\u91d1\\\\u6c99\\\\u8def15\\\\u53f72\\\\u697c(\\\\u8425\\\\u95e8\\\\u53e3\\\\u7acb\\\\u4ea4\\\\u4e1c\\\\u4fa7)\",\"uid\":\"bf775c89026480def219371c\",\"telephone\":\"18200325482,(028)68176033\",\"location\":{\"lng\":104.04923215107,\"lat\":30.692608009423}},{\"name\":\"\\\\u5353\\\\u6cf0\\\\u4f53\\\\u68c0(\\\\u91d1\\\\u725b\\\\u5206\\\\u9662)\",\"address\":\"\\\\u6210\\\\u90fd\\\\u5e02\\\\u91d1\\\\u725b\\\\u533a\\\\u91d1\\\\u6c99\\\\u8def\\\\u5341\\\\u4e94\\\\u53f7\\\\u4e8c\\\\u697c\",\"uid\":\"6c622a4eed1e7a4dc03644c9\",\"telephone\":\"4000020064\",\"location\":{\"lng\":104.04943364099,\"lat\":30.692776712703}},{\"name\":\"\\\\u7231\\\\u5eb7\\\\u56fd\\\\u5bbe\\\\u91d1\\\\u725b\\\\u533a\\\\u5206\\\\u9662\",\"address\":\"\\\\u91d1\\\\u6c99\\\\u8def\\\\u5341\\\\u4e94\\\\u53f7\\\\u4e8c\\\\u697c\",\"uid\":\"2e7dab326b97c1280782c2af\",\"telephone\":\"4006123277\",\"location\":{\"lng\":104.0493301562,\"lat\":30.692752723162}},{\"name\":\"\\\\u7f8e\\\\u5eb7\\\\u4f53\\\\u68c0(\\\\u6210\\\\u90fd\\\\u91d1\\\\u725b\\\\u533a\\\\u6b66\\\\u5019\\\\u4f53\\\\u68c0\\\\u5206\\\\u9662)\",\"address\":\"\\\\u91d1\\\\u725b\\\\u533a\\\\u91d1\\\\u6c99\\\\u8def15\\\\u53f7\\\\u4e8c\\\\u697c\",\"uid\":\"b76b62ef26a5326a16c8f657\",\"telephone\":\"4006123277\",\"location\":{\"lng\":104.04946103931,\"lat\":30.692682074315}},{\"name\":\"\\\\u52a0\\\\u53cb\\\\u4f53\\\\u68c0\\\\uff08\\\\u6210\\\\u90fd\\\\u91d1\\\\u725b\\\\u5206\\\\u9662\\\\uff09\",\"address\":\"\\\\u6210\\\\u90fd\\\\u5e02\\\\u91d1\\\\u725b\\\\u533a\\\\u91d1\\\\u6c99\\\\u8def15\\\\u53f72\\\\u697c\",\"uid\":\"85cb23f90feb6605902ca326\",\"telephone\":\"4006633699\",\"location\":{\"lng\":104.05242499834,\"lat\":30.695719073603}},{\"name\":\"\\\\u5927\\\\u9ea6\\\\u751f\\\\u6d3b\\\\u4f53\\\\u68c0(\\\\u91d1\\\\u725b\\\\u533a\\\\u6b66\\\\u4faf\\\\u4f53\\\\u68c0\\\\u5206\\\\u9662)\",\"address\":\"\\\\u91d1\\\\u725b\\\\u533a\\\\u91d1\\\\u6c99\\\\u8def15\\\\u53f72\\\\u697c\",\"uid\":\"ed94011919089b245dbe8633\",\"telephone\":\"4006123277\",\"location\":{\"lng\":104.04929889517,\"lat\":30.692644731331}},{\"name\":\"\\\\u6c47\\\\u5eb7\\\\u4f53\\\\u68c0\\\\u4e00\\\\u5361\\\\u901a(\\\\u6210\\\\u90fd\\\\u91d1\\\\u6c99\\\\u8def)\",\"address\":\"\\\\u91d1\\\\u725b\\\\u533a\\\\u91d1\\\\u725b\\\\u533a\\\\u91d1\\\\u6c99\\\\u8def\\\\u5341\\\\u4e94\\\\u53f7\\\\u4e8c\\\\u697c\",\"uid\":\"9dd28fcbf6232680f503b80a\",\"telephone\":\"4008805253\",\"location\":{\"lng\":104.04930015279,\"lat\":30.692642790428}},{\"name\":\"\\\\u91d1\\\\u725b\\\\u5206\\\\u9662(\\\\u5065\\\\u5eb7\\\\u4f53\\\\u68c0\\\\u533b\\\\u9662)\",\"address\":\"\\\\u91d1\\\\u725b\\\\u533a\\\\u91d1\\\\u6c99\\\\u8def15\\\\u53f71\\\\u680b2\\\\u697c1\\\\u53f7\",\"uid\":\"6853957444c4db84b23c8166\",\"telephone\":null,\"location\":{\"lng\":104.04930015279,\"lat\":30.692644808968}},{\"name\":\"\\\\u7f8e\\\\u4ec1\\\\u5065\\\\u5eb7(\\\\u897f\\\\u95e8\\\\u5e97)\",\"address\":\"\\\\u91d1\\\\u725b\\\\u533a\\\\u91d1\\\\u6c99\\\\u8def15\\\\u53f71\\\\u680b2\\\\u697c1\\\\u53f7(\\\\u8425\\\\u95e8\\\\u53e3\\\\u7acb\\\\u4ea4\\\\u6865\\\\u4e1c\\\\u4fa7\\\\u5f80\\\\u5de650\\\\u7c73)\",\"uid\":\"53960b33c734d67e6e3e1b68\",\"telephone\":\"(028)66005120,4008235120\",\"location\":{\"lng\":104.04912004254,\"lat\":30.692493263074}}]},\"destination\":{\"cityName\":\"\\\\u91cd\\\\u5e86\\\\u5e02\",\"listType\":0,\"content\":[{\"name\":\"\\\\u7ea6\\\\u514b\\\\u90e1\\\\u7f51\\\\u5496\",\"address\":\"\\\\u6021\\\\u666f\\\\u8def88\\\\u53f7\\\\u96441\\\\u53f7\",\"uid\":\"ecf6a07ec6c7db5778f796b0\",\"telephone\":\"13330302555\",\"location\":{\"lng\":106.53193162759,\"lat\":29.646404054146}},{\"name\":\"\\\\u6653\\\\u5de7\\\\u827a\\\\u672f\",\"address\":\"\\\\u91d1\\\\u5c71\\\\u5927\\\\u9053\\\\u6021\\\\u666f\\\\u8def88\\\\u53f7\\\\u9644\\\\u4e00\\\\u53f72-28\\\\u53f7\",\"uid\":\"ab954b1d5aeaf597eb12e414\",\"telephone\":\"18623524997\",\"location\":{\"lng\":106.53238599051,\"lat\":29.645740012477}},{\"name\":\"THREE\\\\u745c\\\\u4f3d\\\\u5065\\\\u8eab\",\"address\":\"\\\\u4e24\\\\u6c5f\\\\u65b0\\\\u533a\\\\u6021\\\\u666f\\\\u8def88\\\\u53f7\\\\u96441\\\\u53f72-44\",\"uid\":\"6c156b99709b5e653b221cc2\",\"telephone\":\"13881271512\",\"location\":{\"lng\":106.53362897585,\"lat\":29.64638702548}},{\"name\":\"\\\\u5c18\\\\u4e0d\\\\u67d3\\\\u6c7d\\\\u8f66\\\\u7f8e\\\\u5bb9\\\\u88c5\\\\u9970\\\\u517b\\\\u62a4\\\\u4f1a\\\\u6240\",\"address\":\"\\\\u91cd\\\\u5e86\\\\u5e02\\\\u5317\\\\u90e8\\\\u65b0\\\\u533a\\\\u6021\\\\u666f\\\\u8def88\\\\u53f7\\\\u96441\\\\u53f71-41\",\"uid\":\"9776290536becd7807026fda\",\"telephone\":null,\"location\":{\"lng\":106.5355300598,\"lat\":29.64793505276}}]}}}'"
      ]
     },
     "execution_count": 33,
     "metadata": {},
     "output_type": "execute_result"
    }
   ],
   "source": [
    "result2"
   ]
  },
  {
   "cell_type": "code",
   "execution_count": 35,
   "metadata": {
    "collapsed": true
   },
   "outputs": [],
   "source": [
    "final2 = json.loads(result2)"
   ]
  },
  {
   "cell_type": "code",
   "execution_count": 36,
   "metadata": {
    "collapsed": false
   },
   "outputs": [
    {
     "data": {
      "text/plain": [
       "1"
      ]
     },
     "execution_count": 36,
     "metadata": {},
     "output_type": "execute_result"
    }
   ],
   "source": [
    "final2['type']"
   ]
  },
  {
   "cell_type": "code",
   "execution_count": 39,
   "metadata": {
    "collapsed": false
   },
   "outputs": [
    {
     "data": {
      "text/plain": [
       "{u'lat': 30.692608009423, u'lng': 104.04923215107}"
      ]
     },
     "execution_count": 39,
     "metadata": {},
     "output_type": "execute_result"
    }
   ],
   "source": [
    "#出发点的经纬度\n",
    "final2['result']['origin']['content'][0]['location']"
   ]
  },
  {
   "cell_type": "code",
   "execution_count": 40,
   "metadata": {
    "collapsed": false
   },
   "outputs": [
    {
     "data": {
      "text/plain": [
       "{u'lat': 29.646404054146, u'lng': 106.53193162759}"
      ]
     },
     "execution_count": 40,
     "metadata": {},
     "output_type": "execute_result"
    }
   ],
   "source": [
    "#目的地的经纬度\n",
    "final2['result']['destination']['content'][0]['location']"
   ]
  },
  {
   "cell_type": "code",
   "execution_count": 41,
   "metadata": {
    "collapsed": true
   },
   "outputs": [],
   "source": [
    "lat1 = final2['result']['origin']['content'][0]['location']['lat']\n",
    "lng1 = final2['result']['origin']['content'][0]['location']['lng']\n",
    "lat2 = final2['result']['destination']['content'][0]['location']['lat']\n",
    "lng2 = final2['result']['destination']['content'][0]['location']['lng']"
   ]
  },
  {
   "cell_type": "code",
   "execution_count": 43,
   "metadata": {
    "collapsed": false
   },
   "outputs": [],
   "source": [
    "from math import *"
   ]
  },
  {
   "cell_type": "code",
   "execution_count": 47,
   "metadata": {
    "collapsed": false
   },
   "outputs": [],
   "source": [
    "def Distance(lat1, lng1, lat2, lng2):\n",
    "    a = radians(lat1) - radians(lat2)\n",
    "    b = radians(lng1) - radians(lng2)\n",
    "    s = 2*asin(sqrt(pow(sin(a/2),2)+cos(radians(lat1))*cos(radians(lat2))*pow(sin(b/2),2)))\n",
    "    earth_radius = 6378.137\n",
    "    s = s*earth_radius\n",
    "    if s<0:\n",
    "        return -s\n",
    "    else:\n",
    "        return s"
   ]
  },
  {
   "cell_type": "code",
   "execution_count": 52,
   "metadata": {
    "collapsed": false
   },
   "outputs": [],
   "source": [
    "distance = Distance(lat1, lng1, lat2, lng2)"
   ]
  },
  {
   "cell_type": "code",
   "execution_count": 53,
   "metadata": {
    "collapsed": false
   },
   "outputs": [
    {
     "data": {
      "text/plain": [
       "265.7980153273869"
      ]
     },
     "execution_count": 53,
     "metadata": {},
     "output_type": "execute_result"
    }
   ],
   "source": [
    "distance"
   ]
  },
  {
   "cell_type": "code",
   "execution_count": 54,
   "metadata": {
    "collapsed": false
   },
   "outputs": [
    {
     "data": {
      "text/plain": [
       "265.798"
      ]
     },
     "execution_count": 54,
     "metadata": {},
     "output_type": "execute_result"
    }
   ],
   "source": [
    "round(distance, 3)"
   ]
  },
  {
   "cell_type": "code",
   "execution_count": 55,
   "metadata": {
    "collapsed": true
   },
   "outputs": [],
   "source": [
    "distance2 = Distance(lat11, lng11, lat22, lng22)"
   ]
  },
  {
   "cell_type": "code",
   "execution_count": 56,
   "metadata": {
    "collapsed": false
   },
   "outputs": [
    {
     "data": {
      "text/plain": [
       "1.538362181845486"
      ]
     },
     "execution_count": 56,
     "metadata": {},
     "output_type": "execute_result"
    }
   ],
   "source": [
    "distance2"
   ]
  },
  {
   "cell_type": "code",
   "execution_count": 57,
   "metadata": {
    "collapsed": false
   },
   "outputs": [
    {
     "data": {
      "text/plain": [
       "1.538"
      ]
     },
     "execution_count": 57,
     "metadata": {},
     "output_type": "execute_result"
    }
   ],
   "source": [
    "round(distance2, 3)"
   ]
  },
  {
   "cell_type": "code",
   "execution_count": 9,
   "metadata": {
    "collapsed": false
   },
   "outputs": [
    {
     "ename": "ExpatError",
     "evalue": "not well-formed (invalid token): line 1, column 0",
     "output_type": "error",
     "traceback": [
      "\u001b[0;31m---------------------------------------------------------------------------\u001b[0m",
      "\u001b[0;31mExpatError\u001b[0m                                Traceback (most recent call last)",
      "\u001b[0;32m<ipython-input-9-2d8ac1e91f41>\u001b[0m in \u001b[0;36m<module>\u001b[0;34m()\u001b[0m\n\u001b[0;32m----> 1\u001b[0;31m \u001b[0mfinal\u001b[0m \u001b[0;34m=\u001b[0m  \u001b[0mxmltodict\u001b[0m\u001b[0;34m.\u001b[0m\u001b[0mparse\u001b[0m\u001b[0;34m(\u001b[0m\u001b[0mresult\u001b[0m\u001b[0;34m)\u001b[0m\u001b[0;34m\u001b[0m\u001b[0m\n\u001b[0m",
      "\u001b[0;32m/home/mao/anaconda2/lib/python2.7/site-packages/xmltodict.pyc\u001b[0m in \u001b[0;36mparse\u001b[0;34m(xml_input, encoding, expat, process_namespaces, namespace_separator, disable_entities, **kwargs)\u001b[0m\n\u001b[1;32m    328\u001b[0m         \u001b[0mparser\u001b[0m\u001b[0;34m.\u001b[0m\u001b[0mParseFile\u001b[0m\u001b[0;34m(\u001b[0m\u001b[0mxml_input\u001b[0m\u001b[0;34m)\u001b[0m\u001b[0;34m\u001b[0m\u001b[0m\n\u001b[1;32m    329\u001b[0m     \u001b[0;32melse\u001b[0m\u001b[0;34m:\u001b[0m\u001b[0;34m\u001b[0m\u001b[0m\n\u001b[0;32m--> 330\u001b[0;31m         \u001b[0mparser\u001b[0m\u001b[0;34m.\u001b[0m\u001b[0mParse\u001b[0m\u001b[0;34m(\u001b[0m\u001b[0mxml_input\u001b[0m\u001b[0;34m,\u001b[0m \u001b[0mTrue\u001b[0m\u001b[0;34m)\u001b[0m\u001b[0;34m\u001b[0m\u001b[0m\n\u001b[0m\u001b[1;32m    331\u001b[0m     \u001b[0;32mreturn\u001b[0m \u001b[0mhandler\u001b[0m\u001b[0;34m.\u001b[0m\u001b[0mitem\u001b[0m\u001b[0;34m\u001b[0m\u001b[0m\n\u001b[1;32m    332\u001b[0m \u001b[0;34m\u001b[0m\u001b[0m\n",
      "\u001b[0;31mExpatError\u001b[0m: not well-formed (invalid token): line 1, column 0"
     ]
    }
   ],
   "source": [
    "# final =  xmltodict.parse(result)\n",
    "# for i in final:\n",
    "#    print i\n",
    "#for i in final['DirectionDrivingResponse']:\n",
    "#    print i"
   ]
  },
  {
   "cell_type": "code",
   "execution_count": null,
   "metadata": {
    "collapsed": true
   },
   "outputs": [],
   "source": []
  }
 ],
 "metadata": {
  "kernelspec": {
   "display_name": "Python 2",
   "language": "python",
   "name": "python2"
  },
  "language_info": {
   "codemirror_mode": {
    "name": "ipython",
    "version": 2
   },
   "file_extension": ".py",
   "mimetype": "text/x-python",
   "name": "python",
   "nbconvert_exporter": "python",
   "pygments_lexer": "ipython2",
   "version": "2.7.13"
  }
 },
 "nbformat": 4,
 "nbformat_minor": 2
}
